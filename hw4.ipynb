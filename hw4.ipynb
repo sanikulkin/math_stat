{
 "cells": [
  {
   "cell_type": "code",
   "execution_count": 1,
   "id": "744cd914-ae87-41e1-8947-3d739e4a1356",
   "metadata": {},
   "outputs": [
    {
     "name": "stdout",
     "output_type": "stream",
     "text": [
      "[3, 5, 5, 8, 7, 6, 7, 5, 6, 7, 4, 3, 5, 4, 5, 6, 8, 5, 3, 6, 5, 7, 8, 5, 7, 6, 5, 5, 5, 4, 5, 6, 5, 7, 5, 5, 6, 7, 7, 6, 5, 5, 7, 8, 5, 8, 6, 8, 4, 5, 7, 6, 6, 8, 7, 7, 6, 5, 5, 6, 6, 8, 6, 6, 4, 4, 6, 6, 3, 8, 7, 5, 5, 6, 4, 6, 7, 3, 8, 5, 6, 6, 6, 5, 4, 5, 4, 4, 3, 7, 6, 5, 4, 6, 7, 5, 5, 6, 2, 6, 8, 7, 6, 6, 6, 6, 7, 6, 6, 5, 5, 8, 4, 5, 3, 6, 5, 6, 6, 6, 5, 8, 7, 7, 4, 5, 5, 7, 8, 8, 7, 5, 5, 6, 5, 5, 6, 7, 5, 7]\n"
     ]
    }
   ],
   "source": [
    "import numpy as np\n",
    "import math\n",
    "import scipy\n",
    "import scipy.stats\n",
    "import pandas as pd\n",
    "import random\n",
    "import matplotlib.pyplot as plt\n",
    "np.set_printoptions(precision=11)\n",
    "np.set_printoptions(suppress=True)\n",
    "\n",
    "n = 140\n",
    "k = 8\n",
    "x = [3,5,5,8,7,6,7,5,6,7,4,3,5,4,5,6,8,5,3,6,5,7,8,5,7,6,5,5,5,4,5,6,5,7,5,5,6,7,7,6,5,5,7,8,5,8,6,8,4,5,7,6,6,8,7,7,6,5,5,6,6,8,6,6,4,4,6,6,3,8,7,5,5,6,4,6,7,3,8,5,6,6,6,5,4,5,4,4,3,7,6,5,4,6,7,5,5,6,2,6,8,7,6,6,6,6,7,6,6,5,5,8,4,5,3,6,5,6,6,6,5,8,7,7,4,5,5,7,8,8,7,5,5,6,5,5,6,7,5,7]\n",
    "print(x)"
   ]
  },
  {
   "cell_type": "code",
   "execution_count": 2,
   "id": "fedaddd6-8b45-42f3-9b5e-5a77836121bb",
   "metadata": {},
   "outputs": [],
   "source": [
    "def F(X):\n",
    "    if(x < 0):\n",
    "        return 0\n",
    "    return math.comb(n, k)"
   ]
  },
  {
   "cell_type": "code",
   "execution_count": 3,
   "id": "c7890020-04e7-40de-bdd1-5e9f908aabcb",
   "metadata": {},
   "outputs": [
    {
     "name": "stdout",
     "output_type": "stream",
     "text": [
      "K =  802\n"
     ]
    }
   ],
   "source": [
    "#n = 14\n",
    "#k = 3\n",
    "#print(math.comb(n,k))\n",
    "K = sum(x)\n",
    "print(\"K = \",K)\n",
    "#exp_obj = scipy.stats.binom"
   ]
  },
  {
   "cell_type": "code",
   "execution_count": 4,
   "id": "0b29f123-3ce5-4cc8-8977-a2ae23410681",
   "metadata": {},
   "outputs": [
    {
     "data": {
      "image/png": "[encoded data removed]",
      "text/plain": [
       "<Figure size 720x432 with 1 Axes>"
      ]
     },
     "metadata": {
      "needs_background": "light"
     },
     "output_type": "display_data"
    }
   ],
   "source": [
    "plt.figure(figsize=(10,6))\n",
    "p = np.arange(0,1,0.0001)\n",
    "y1 = scipy.stats.binom.ppf(0.95,n * k, p)\n",
    "y2 = scipy.stats.binom.ppf(0.05,n * k, p)\n",
    "plt.plot(p, y1, color = 'red')\n",
    "plt.plot(p, y2, color = 'green')\n",
    "plt.step([0,1],[K,K], linewidth = 1, color = \"black\")\n",
    "plt.show()"
   ]
  },
  {
   "cell_type": "code",
   "execution_count": 5,
   "id": "b972e518-a1f1-4149-b5ae-fc64473b4e9c",
   "metadata": {},
   "outputs": [
    {
     "name": "stdout",
     "output_type": "stream",
     "text": [
      "p_l1 =  0.6930579078882454 \n",
      "p_h1 =  0.7382403396526932\n",
      "\n",
      "p_l2 =  0.6886739529987495 \n",
      "p_h2 =  0.7423288147900509\n",
      "\n",
      "p_l3 =  0.6835488313093319 \n",
      "p_h3 =  0.7470466186934321\n"
     ]
    }
   ],
   "source": [
    "alpha = 0.1\n",
    "p_l1 = scipy.special.betaincinv(K,n * k - K + 1,alpha/2)\n",
    "p_h1 = scipy.special.betaincinv(K + 1,n * k - K,1 - (alpha/2))\n",
    "print(\"p_l1 = \",p_l1,\"\\np_h1 = \",p_h1)\n",
    "print()\n",
    "\n",
    "alpha = 0.05\n",
    "p_l2 = scipy.special.betaincinv(K,n * k - K + 1,alpha/2)\n",
    "p_h2 = scipy.special.betaincinv(K + 1,n * k - K,1 - (alpha/2))\n",
    "print(\"p_l2 = \",p_l2,\"\\np_h2 = \",p_h2)\n",
    "print()\n",
    "\n",
    "alpha = 0.02\n",
    "p_l3 = scipy.special.betaincinv(K,n * k - K + 1,alpha/2)\n",
    "p_h3 = scipy.special.betaincinv(K + 1,n * k - K,1 - (alpha/2))\n",
    "print(\"p_l3 = \",p_l3,\"\\np_h3 = \",p_h3)\n",
    "#истинное значение из задачи 2 p = 0.7"
   ]
  },
  {
   "cell_type": "code",
   "execution_count": 6,
   "id": "fed1c671-e233-4c17-9b22-89bbd62c85ac",
   "metadata": {},
   "outputs": [
    {
     "name": "stdout",
     "output_type": "stream",
     "text": [
      "p_l1 =  0.6672337750861449 \n",
      "p_h1 =  0.7649090820567123\n",
      "\n",
      "p_l2 =  0.6533889789323997 \n",
      "p_h1 =  0.7787538782104575\n",
      "\n",
      "p_l3 =  0.6378067060742165 \n",
      "p_h3 =  0.7943361510686406\n",
      "\n"
     ]
    }
   ],
   "source": [
    "#задача 2 по ЦПТ\n",
    "alpha = 0.1\n",
    "u = scipy.stats.norm.ppf(1 - alpha)\n",
    "par = K/(k*n)\n",
    "p_l1 = par - u/((n)**0.5)*(par *(1-par))**0.5\n",
    "p_h1 = par + u/((n)**0.5)*(par *(1-par))**0.5\n",
    "print(\"p_l1 = \",p_l1,\"\\np_h1 = \",p_h1)\n",
    "print()\n",
    "\n",
    "alpha = 0.05\n",
    "u = scipy.stats.norm.ppf(1 - alpha)\n",
    "par = K/(k*n)\n",
    "p_l2 = par - u/((n)**0.5)*(par *(1-par))**0.5\n",
    "p_h2 = par + u/((n)**0.5)*(par *(1-par))**0.5\n",
    "print(\"p_l2 = \",p_l2,\"\\np_h1 = \",p_h2)\n",
    "print()\n",
    "\n",
    "alpha = 0.02\n",
    "u = scipy.stats.norm.ppf(1 - alpha)\n",
    "par = K/(k*n)\n",
    "p_l3 = par - u/((n)**0.5)*(par *(1-par))**0.5\n",
    "p_h3 = par + u/((n)**0.5)*(par *(1-par))**0.5\n",
    "print(\"p_l3 = \",p_l3,\"\\np_h3 = \",p_h3)\n",
    "print()"
   ]
  },
  {
   "cell_type": "code",
   "execution_count": 37,
   "id": "0f2ab085-d743-4314-a1fb-017fa43aa7c3",
   "metadata": {},
   "outputs": [
    {
     "name": "stdout",
     "output_type": "stream",
     "text": [
      "вероятности по формуле Бернули Probability =  [0.00015035363 0.00241180776 0.01692581207 0.06787632059 0.17012458837\n",
      " 0.27289517465 0.2735927867  0.15673838976 0.03928476648]\n",
      "Кумулятивные вероятности cumulativeProbability =  [0.00015035363 0.00256216139 0.01948797346 0.08736429405 0.25748888242\n",
      " 0.53038405707 0.80397684377 0.96071523352 1.           ]\n",
      "вероятности по формуле Бернули Probability =  [0.00000933011 0.00024285708 0.00276562172 0.01799686    0.07319488233\n",
      " 0.19052179726 0.30994785832 0.28813403508 0.11718675811]\n",
      "Кумулятивные вероятности cumulativeProbability =  [0.00000933011 0.00025218719 0.00301780891 0.0210146689  0.09420955124\n",
      " 0.2847313485  0.59467920681 0.88281324189 1.           ]\n",
      "вероятности по формуле Бернули Probability =  [0.00006561 0.00122472 0.01000188 0.04667544 0.1361367  0.25412184\n",
      " 0.29647548 0.19765032 0.05764801]\n",
      "Кумулятивные вероятности cumulativeProbability =  [0.00006561 0.00129033 0.01129221 0.05796765 0.19410435 0.44822619\n",
      " 0.74470167 0.94235199 1.        ]\n"
     ]
    },
    {
     "data": {
      "image/png": "[encoded data removed]",
      "text/plain": [
       "<Figure size 720x432 with 1 Axes>"
      ]
     },
     "metadata": {
      "needs_background": "light"
     },
     "output_type": "display_data"
    }
   ],
   "source": [
    "#считаем вероятности \n",
    "p = p_l1\n",
    "Probability = np.array([])\n",
    "for i in range(k + 1):\n",
    "    Probability = np.append(Probability, math.comb(k,i) * p ** i * (1-p) ** (k - i))\n",
    "print(\"вероятности по формуле Бернули Probability = \", Probability)\n",
    "\n",
    "cumulativeProbability = np.array([])\n",
    "_sum = 0\n",
    "for element in Probability:\n",
    "    _sum += element\n",
    "    cumulativeProbability = np.append(cumulativeProbability, _sum) \n",
    "print(\"Кумулятивные вероятности cumulativeProbability = \", cumulativeProbability)\n",
    "\n",
    "plt.figure(figsize=(10,6))\n",
    "rg = np.arange(0,10,1)\n",
    "plt.step(rg,cumulativeProbability.tolist() + [1], color = 'yellow')\n",
    "\n",
    "#считаем вероятности \n",
    "p = p_h1\n",
    "Probability = np.array([])\n",
    "for i in range(k + 1):\n",
    "    Probability = np.append(Probability, math.comb(k,i) * p ** i * (1-p) ** (k - i))\n",
    "print(\"вероятности по формуле Бернули Probability = \", Probability)\n",
    "\n",
    "cumulativeProbability1 = np.array([])\n",
    "_sum = 0\n",
    "for element in Probability:\n",
    "    _sum += element\n",
    "    cumulativeProbability1 = np.append(cumulativeProbability1, _sum) \n",
    "print(\"Кумулятивные вероятности cumulativeProbability = \", cumulativeProbability1)\n",
    "plt.step(rg,cumulativeProbability1.tolist() + [1], color = 'red')\n",
    "\n",
    "#считаем вероятности \n",
    "p = 0.7\n",
    "Probability = np.array([])\n",
    "for i in range(k + 1):\n",
    "    Probability = np.append(Probability, math.comb(k,i) * p ** i * (1-p) ** (k - i))\n",
    "print(\"вероятности по формуле Бернули Probability = \", Probability)\n",
    "\n",
    "cumulativeProbability2 = np.array([])\n",
    "_sum = 0\n",
    "for element in Probability:\n",
    "    _sum += element\n",
    "    cumulativeProbability2 = np.append(cumulativeProbability2, _sum) \n",
    "print(\"Кумулятивные вероятности cumulativeProbability = \", cumulativeProbability2)\n",
    "plt.step(rg,cumulativeProbability2.tolist() + [1], color = 'green')\n",
    "plt.show()"
   ]
  }
 ],
 "metadata": {
  "kernelspec": {
   "display_name": "Python 3 (ipykernel)",
   "language": "python",
   "name": "python3"
  },
  "language_info": {
   "codemirror_mode": {
    "name": "ipython",
    "version": 3
   },
   "file_extension": ".py",
   "mimetype": "text/x-python",
   "name": "python",
   "nbconvert_exporter": "python",
   "pygments_lexer": "ipython3",
   "version": "3.10.6"
  }
 },
 "nbformat": 4,
 "nbformat_minor": 5
}
