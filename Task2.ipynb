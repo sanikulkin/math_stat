{
 "cells": [
  {
   "cell_type": "markdown",
   "id": "ad05c458",
   "metadata": {},
   "source": [
    "![jupyter](./tasks/task2.png)"
   ]
  },
  {
   "cell_type": "code",
   "execution_count": 55,
   "id": "71c1f8a0",
   "metadata": {},
   "outputs": [],
   "source": [
    "import numpy as np\n",
    "import math\n",
    "import random\n",
    "import seaborn as sb\n",
    "import matplotlib.pyplot as plt\n",
    "from prettytable import PrettyTable\n",
    "\n",
    "np.set_printoptions(precision=7, suppress=True)\n",
    "\n",
    "def print_table(th, td):\n",
    "    table = PrettyTable(th)\n",
    "    columns = len(th) \n",
    "    td_data = td.tolist()[:]\n",
    "    while td_data:\n",
    "        table.add_row(td_data[:columns])\n",
    "        td_data = td_data[columns:]\n",
    "    print(table)"
   ]
  },
  {
   "cell_type": "code",
   "execution_count": 56,
   "id": "7490fb3a",
   "metadata": {},
   "outputs": [
    {
     "name": "stdout",
     "output_type": "stream",
     "text": [
      "Вариант 13\n",
      "k = 8 \n",
      "p = 0.6 \n",
      "n = 180\n"
     ]
    }
   ],
   "source": [
    "k = 8\n",
    "p = 0.6\n",
    "n = 180\n",
    "\n",
    "print(\"Вариант 13\\nk =\", k, \"\\np =\", p, \"\\nn =\", n)"
   ]
  },
  {
   "cell_type": "code",
   "execution_count": 57,
   "id": "47d8bd5b",
   "metadata": {},
   "outputs": [
    {
     "name": "stdout",
     "output_type": "stream",
     "text": [
      "Находим теоретический закон\n",
      "\n",
      "+---------------------+---------+---------+---------+---------+---------+---------+---------+---------+--------+\n",
      "|     Значение СВ     |    0    |    1    |    2    |    3    |    4    |    5    |    6    |    7    |   8    |\n",
      "+---------------------+---------+---------+---------+---------+---------+---------+---------+---------+--------+\n",
      "|     Вероятности     | 0.00066 | 0.00786 | 0.04129 | 0.12386 | 0.23224 | 0.27869 | 0.20902 | 0.08958 | 0.0168 |\n",
      "| Кумулятивные вер-ти | 0.00066 | 0.00852 | 0.04981 | 0.17367 | 0.40591 | 0.68461 | 0.89362 |  0.9832 |  1.0   |\n",
      "+---------------------+---------+---------+---------+---------+---------+---------+---------+---------+--------+\n",
      "\n",
      "\n",
      "Вероятности вычисляются по формуле Бернулли:\n",
      " p = [0.0006554 0.0078643 0.0412877 0.123863  0.2322432 0.2786918 0.2090189\n",
      " 0.0895795 0.0167962]\n",
      "\n",
      "\n",
      "Кумулятивные вероятности:\n",
      " u = [0.0006554 0.0085197 0.0498074 0.1736704 0.4059136 0.6846054 0.8936243\n",
      " 0.9832038 1.       ]\n"
     ]
    }
   ],
   "source": [
    "P = np.array([])\n",
    "for i in range(k + 1):\n",
    "    cur = math.comb(k, i) * p ** i * (1 - p) ** (k - i)\n",
    "    P = np.append(P, cur)\n",
    "    \n",
    "U = np.array([])\n",
    "s = 0\n",
    "for i in P:\n",
    "    s += i\n",
    "    U = np.append(U, s)\n",
    "\n",
    "print(\"Находим теоретический закон\\n\")\n",
    "th = ['Значение СВ', 0, 1, 2, 3, 4, 5, 6, 7, 8]\n",
    "td = ['Вероятности']\n",
    "td = np.append(td, np.around(P, 5))\n",
    "td = np.append(td, \"Кумулятивные вер-ти\")\n",
    "td = np.append(td, np.around(U, 5))\n",
    "print_table(th, td)\n",
    "print(\"\\n\")\n",
    "print(\"Вероятности вычисляются по формуле Бернулли:\\n p =\", P)\n",
    "print(\"\\n\")\n",
    "print(\"Кумулятивные вероятности:\\n u =\", U)"
   ]
  },
  {
   "cell_type": "code",
   "execution_count": 58,
   "id": "fe0ca2ae",
   "metadata": {},
   "outputs": [
    {
     "name": "stdout",
     "output_type": "stream",
     "text": [
      "Моделируем вектор из n случайных чисел\n",
      "\n",
      "y =  [0.7430117 0.0131937 0.2641287 0.6805061 0.4669953 0.2824088 0.7670211\n",
      " 0.5419881 0.7512036 0.3826804 0.575476  0.2169679 0.7199178 0.9844199\n",
      " 0.2300451 0.1119377 0.5418018 0.9623804 0.1032463 0.3804054 0.0453402\n",
      " 0.994107  0.3923415 0.3229826 0.7679851 0.7086679 0.3936306 0.4782161\n",
      " 0.5149101 0.2440556 0.6649177 0.8233195 0.5972178 0.8269096 0.9774578\n",
      " 0.2413795 0.8825712 0.3449476 0.1474206 0.9045174 0.1153197 0.1582498\n",
      " 0.9117441 0.6836176 0.6878929 0.382675  0.1993398 0.5453025 0.2743971\n",
      " 0.1376975 0.8173508 0.2806923 0.2024272 0.4339194 0.6726711 0.6473608\n",
      " 0.5672103 0.1248707 0.9509945 0.7103654 0.6609607 0.2912492 0.7967039\n",
      " 0.0743767 0.1279769 0.2230869 0.1037165 0.3257206 0.1961282 0.6005775\n",
      " 0.7305526 0.1883716 0.6201679 0.7417755 0.5244109 0.5455933 0.7542234\n",
      " 0.5306046 0.3950252 0.6663366 0.2365113 0.2888259 0.1380154 0.5187399\n",
      " 0.8493737 0.4772348 0.4946868 0.6910588 0.7237271 0.2485692 0.3767957\n",
      " 0.7215686 0.7587811 0.4209413 0.2504457 0.2809388 0.7996447 0.8478235\n",
      " 0.2886955 0.7433871 0.4807228 0.0835754 0.62009   0.8859649 0.8420005\n",
      " 0.0248658 0.2609468 0.6573811 0.7546025 0.1685402 0.5706834 0.1300454\n",
      " 0.4871689 0.0303216 0.8866866 0.7611883 0.6278376 0.219561  0.920908\n",
      " 0.7360812 0.1976538 0.7500272 0.7603305 0.0505781 0.4671816 0.3403675\n",
      " 0.3138954 0.7373946 0.6228179 0.4294105 0.3214962 0.4208361 0.8500773\n",
      " 0.2553929 0.6822059 0.7715908 0.6125567 0.4216092 0.7340347 0.909116\n",
      " 0.5313262 0.9779199 0.857236  0.2112797 0.8507501 0.8927393 0.4759056\n",
      " 0.814192  0.7718482 0.2833976 0.0808271 0.2366379 0.5784174 0.9703901\n",
      " 0.2064668 0.4120065 0.946227  0.8686594 0.2647162 0.4072996 0.4004516\n",
      " 0.5898771 0.2811143 0.7845454 0.7771635 0.1977971 0.8188442 0.5197503\n",
      " 0.3980137 0.5563797 0.8162758 0.5103725 0.1551046 0.407483  0.0817952\n",
      " 0.1916301 0.8616649 0.9862273 0.2062022 0.4879702]\n",
      "\n",
      "\n",
      "По вектору y разыгрываем вектор x в соответствии с алгоритмом\n",
      "\n",
      "x =  [6 2 4 5 5 4 6 5 6 4 5 4 6 8 4 3 5 7 3 4 2 8 4 4 6 6 4 5 5 4 5 6 5 6 7 4 6\n",
      " 4 3 7 3 3 7 5 6 4 4 5 4 3 6 4 4 5 5 5 5 3 7 6 5 4 6 3 3 4 3 4 4 5 6 4 5 6\n",
      " 5 5 6 5 4 5 4 4 3 5 6 5 5 6 6 4 4 6 6 5 4 4 6 6 4 6 5 3 5 6 6 2 4 5 6 3 5\n",
      " 3 5 2 6 6 5 4 7 6 4 6 6 3 5 4 4 6 5 5 4 5 6 4 5 6 5 5 6 7 5 7 6 4 6 6 5 6\n",
      " 6 4 3 4 5 7 4 5 7 6 4 5 4 5 4 6 6 4 6 5 4 5 6 5 3 5 3 4 6 8 4 5]\n",
      "\n",
      "\n",
      "Строим статистический ряд (здесь n=180)\n",
      "\n",
      "+-----------------------+-----+-----+-------+-------+-------+-------+-------+-------+-------+\n",
      "|      Значение СВ      |  0  |  1  |   2   |   3   |   4   |   5   |   6   |   7   |   8   |\n",
      "+-----------------------+-----+-----+-------+-------+-------+-------+-------+-------+-------+\n",
      "|        Частоты        | 0.0 | 0.0 |  4.0  |  18.0 |  48.0 |  50.0 |  47.0 |  10.0 |  3.0  |\n",
      "| Относительные частоты | 0.0 | 0.0 | 0.022 |  0.1  | 0.267 | 0.278 | 0.261 | 0.056 | 0.017 |\n",
      "| Накопительные частоты | 0.0 | 0.0 | 0.022 | 0.122 | 0.389 | 0.667 | 0.928 | 0.983 |  1.0  |\n",
      "+-----------------------+-----+-----+-------+-------+-------+-------+-------+-------+-------+\n"
     ]
    }
   ],
   "source": [
    "y = np.array([])\n",
    "for i in range(n):\n",
    "    y = np.append(y, random.random())\n",
    "\n",
    "x = np.array([])\n",
    "for y_n in y:\n",
    "    for i in range(U.size):\n",
    "        if y_n < U[i]:\n",
    "            x = np.append(x, i)\n",
    "            break\n",
    "            \n",
    "frequency = np.array([])\n",
    "for i in range(k + 1):\n",
    "    frequency = np.append(frequency, np.count_nonzero(x == i))\n",
    "    \n",
    "relative_frequency = np.array([])\n",
    "for i in range(frequency.size):\n",
    "    relative_frequency = np.append(relative_frequency, frequency[i] / n) \n",
    "    \n",
    "accumulated_frequency = np.array([])\n",
    "s = 0\n",
    "for i in relative_frequency:\n",
    "    s += i\n",
    "    accumulated_frequency = np.append(accumulated_frequency, s)\n",
    "    \n",
    "print(\"Моделируем вектор из n случайных чисел\\n\")\n",
    "print(\"y = \", y)\n",
    "print(\"\\n\")\n",
    "print(\"По вектору y разыгрываем вектор x в соответствии с алгоритмом\\n\")\n",
    "print(\"x = \", x.astype(int))\n",
    "print(\"\\n\")\n",
    "print(\"Строим статистический ряд (здесь n=180)\\n\")\n",
    "th = ['Значение СВ', 0, 1, 2, 3, 4, 5, 6, 7, 8]\n",
    "td = ['Частоты']\n",
    "td = np.append(td, frequency)\n",
    "td = np.append(td, ['Относительные частоты'])\n",
    "td = np.append(td, np.around(relative_frequency, 3))\n",
    "td = np.append(td, ['Накопительные частоты'])\n",
    "td = np.append(td, np.around(accumulated_frequency, 3))\n",
    "\n",
    "print_table(th, td)"
   ]
  },
  {
   "cell_type": "code",
   "execution_count": 59,
   "id": "ae3305b0",
   "metadata": {},
   "outputs": [
    {
     "name": "stdout",
     "output_type": "stream",
     "text": [
      "Строим совмещенные графики\n"
     ]
    },
    {
     "data": {
      "image/png": "[encoded data removed]",
      "text/plain": [
       "<Figure size 640x480 with 1 Axes>"
      ]
     },
     "metadata": {},
     "output_type": "display_data"
    }
   ],
   "source": [
    "print(\"Строим совмещенные графики\")\n",
    "sb.set_style('whitegrid')\n",
    "z = range(0, 10)\n",
    "plt.step(z, [0.0] + U.tolist(), linewidth = 1.0, color='black')\n",
    "plt.step(z, [0.0] + accumulated_frequency.tolist(), linewidth = 1.0, color='red')\n",
    "plt.xlabel(\"z\")\n",
    "plt.ylabel(\"Черный: F(z)\\nКрасный: F180(z)\")\n",
    "plt.show()"
   ]
  },
  {
   "cell_type": "code",
   "execution_count": 60,
   "id": "b656e349",
   "metadata": {},
   "outputs": [
    {
     "name": "stdout",
     "output_type": "stream",
     "text": [
      "Вычисление статистики Колмогорова для выборки из дискретного закона\n",
      "\n",
      "+---------------+----------+--------+--------+--------+--------+--------+--------+--------+--------+----------+\n",
      "|   Интервалы   | (-inf,0] | (0,1]  | (1,2]  | (2,3]  | (3,4]  | (4,5]  | (5,6]  | (6,7]  | (7,8]  | (8,+inf) |\n",
      "+---------------+----------+--------+--------+--------+--------+--------+--------+--------+--------+----------+\n",
      "|  Эмпирическая |    0     |  0.0   |  0.0   | 0.0222 | 0.1222 | 0.3889 | 0.6667 | 0.9278 | 0.9833 |   1.0    |\n",
      "|    функция    |          |        |        |        |        |        |        |        |        |          |\n",
      "| распределения |          |        |        |        |        |        |        |        |        |          |\n",
      "|               |          |        |        |        |        |        |        |        |        |          |\n",
      "| Теоретическая |    0     | 0.0007 | 0.0085 | 0.0498 | 0.1737 | 0.4059 | 0.6846 | 0.8936 | 0.9832 |   1.0    |\n",
      "|    функция    |          |        |        |        |        |        |        |        |        |          |\n",
      "| распределения |          |        |        |        |        |        |        |        |        |          |\n",
      "|               |          |        |        |        |        |        |        |        |        |          |\n",
      "|     Модуль    |   0.0    | 0.0007 | 0.0085 | 0.0276 | 0.0514 | 0.017  | 0.0179 | 0.0342 | 0.0001 |   0.0    |\n",
      "|    разности   |          |        |        |        |        |        |        |        |        |          |\n",
      "|               |          |        |        |        |        |        |        |        |        |          |\n",
      "+---------------+----------+--------+--------+--------+--------+--------+--------+--------+--------+----------+\n",
      "Статистика Колмагорова:\n",
      " 0.0514481777777778\n"
     ]
    }
   ],
   "source": [
    "modul = np.array([0])\n",
    "for i in range(k + 1):\n",
    "    modul = np.append(modul, abs(accumulated_frequency[i] - U[i]))\n",
    "    \n",
    "print(\"Вычисление статистики Колмогорова для выборки из дискретного закона\\n\")\n",
    "th = ['Интервалы', '(-inf,0]', '(0,1]', '(1,2]', '(2,3]', '(3,4]', '(4,5]', '(5,6]', '(6,7]', '(7,8]', '(8,+inf)']\n",
    "td = ['Эмпирическая\\nфункция\\nраспределения\\n', 0]\n",
    "td = np.append(td, np.around(accumulated_frequency,4))\n",
    "td = np.append(td, ['Теоретическая\\nфункция\\nраспределения\\n'])\n",
    "td = np.append(td, 0)\n",
    "td = np.append(td, np.around(U, 4))\n",
    "td = np.append(td, ['Модуль\\nразности\\n'])\n",
    "td = np.append(td, np.around(modul, 4))\n",
    "\n",
    "print_table(th, td)\n",
    "\n",
    "print(\"Статистика Колмагорова:\\n\", np.amax(modul))"
   ]
  },
  {
   "cell_type": "code",
   "execution_count": 61,
   "id": "678d07f5",
   "metadata": {},
   "outputs": [
    {
     "name": "stdout",
     "output_type": "stream",
     "text": [
      "Вычисление эмпирических и теоретических характеристик\n",
      "\n",
      "Абсолютная величина разности выборочного среднего и теоретического мат ожидания мало\n",
      " 0.08889\n",
      "Отношение среднеквадратичных отклонений близко к единице\n",
      " 0.88269\n",
      "Следовательно, результаты моделирования можно признать удовлетворительными.\n"
     ]
    }
   ],
   "source": [
    "print(\"Вычисление эмпирических и теоретических характеристик\\n\")\n",
    "\n",
    "mn = x.mean()\n",
    "m = sum(P[i] * i for i in range(k + 1))\n",
    "D = sum((i - m) ** 2 * P[i] for i in range(k + 1))\n",
    "S2 = 1/179 * sum((x[i] - mn) ** 2 for i in range(n))\n",
    "\n",
    "print(\"Абсолютная величина разности выборочного среднего и теоретического мат ожидания мало\\n\", np.around(abs(mn-m), 5))\n",
    "print(\"Отношение среднеквадратичных отклонений близко к единице\\n\", np.around(math.sqrt(S2/D), 5))\n",
    "print(\"Следовательно, результаты моделирования можно признать удовлетворительными.\")"
   ]
  },
  {
   "cell_type": "code",
   "execution_count": null,
   "id": "c2948097",
   "metadata": {},
   "outputs": [],
   "source": []
  },
  {
   "cell_type": "code",
   "execution_count": null,
   "id": "56497853",
   "metadata": {},
   "outputs": [],
   "source": []
  },
  {
   "cell_type": "code",
   "execution_count": null,
   "id": "6c817798",
   "metadata": {},
   "outputs": [],
   "source": []
  },
  {
   "cell_type": "code",
   "execution_count": null,
   "id": "44de1f4d",
   "metadata": {},
   "outputs": [],
   "source": []
  },
  {
   "cell_type": "code",
   "execution_count": null,
   "id": "60f98ff3",
   "metadata": {},
   "outputs": [],
   "source": []
  }
 ],
 "metadata": {
  "kernelspec": {
   "display_name": "Python 3 (ipykernel)",
   "language": "python",
   "name": "python3"
  },
  "language_info": {
   "codemirror_mode": {
    "name": "ipython",
    "version": 3
   },
   "file_extension": ".py",
   "mimetype": "text/x-python",
   "name": "python",
   "nbconvert_exporter": "python",
   "pygments_lexer": "ipython3",
   "version": "3.10.6"
  }
 },
 "nbformat": 4,
 "nbformat_minor": 5
}
