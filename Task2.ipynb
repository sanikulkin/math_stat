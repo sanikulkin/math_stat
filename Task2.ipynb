{
 "cells": [
  {
   "cell_type": "code",
   "execution_count": 321,
   "id": "713adbe0",
   "metadata": {},
   "outputs": [],
   "source": [
    "import numpy as np\n",
    "import math\n",
    "import random\n",
    "import seaborn as sb"
   ]
  },
  {
   "cell_type": "code",
   "execution_count": 302,
   "id": "6fcae030",
   "metadata": {},
   "outputs": [],
   "source": [
    "k = 8\n",
    "p = 0.6\n",
    "n = 180"
   ]
  },
  {
   "cell_type": "code",
   "execution_count": 303,
   "id": "06e1dae1",
   "metadata": {},
   "outputs": [],
   "source": [
    "P = np.array([])\n",
    "for i in range(k + 1):\n",
    "    cur = math.comb(k, i) * p ** i * (1 - p) ** (k - i)\n",
    "    P = np.append(P, cur)\n",
    "    \n",
    "U = np.array([])\n",
    "s = 0\n",
    "for i in P:\n",
    "    s += i\n",
    "    U = np.append(U, s)"
   ]
  },
  {
   "cell_type": "code",
   "execution_count": 304,
   "id": "92e68650",
   "metadata": {},
   "outputs": [],
   "source": [
    "y = np.array([])\n",
    "for i in range(n):\n",
    "    y = np.append(y, random.random())\n",
    "\n",
    "x = np.array([])\n",
    "for y_n in y:\n",
    "    for i in range(U.size):\n",
    "        if y_n < U[i]:\n",
    "            x = np.append(x, i)\n",
    "            break\n",
    "            \n",
    "frequency = np.array([])\n",
    "for i in range(k + 1):\n",
    "    frequency = np.append(frequency, np.count_nonzero(x == i))\n",
    "    \n",
    "relative_frequency = np.array([])\n",
    "for i in range(frequency.size):\n",
    "    relative_frequency = np.append(relative_frequency, frequency[i] / n) \n",
    "    \n",
    "accumulated_frequency = np.array([])\n",
    "s = 0\n",
    "for i in relative_frequency:\n",
    "    s += i\n",
    "    accumulated_frequency = np.append(accumulated_frequency, s)"
   ]
  },
  {
   "cell_type": "code",
   "execution_count": 322,
   "id": "805c8d73",
   "metadata": {},
   "outputs": [
    {
     "data": {
      "image/png": "[encoded data removed]",
      "text/plain": [
       "<Figure size 640x480 with 1 Axes>"
      ]
     },
     "metadata": {},
     "output_type": "display_data"
    }
   ],
   "source": [
    "z = np.linspace(-1, 9, accumulated_frequency.size)\n",
    "sb.set_theme()\n",
    "plt.step(z, accumulated_frequency, linewidth = 1.0, color='red')\n",
    "plt.step(z, U, linewidth = 1.0, color='black')\n",
    "plt.xlabel(\"z\")\n",
    "plt.ylabel(\"Черный: F(z)\\nКрасный: F180(z)\")\n",
    "plt.show()"
   ]
  },
  {
   "cell_type": "code",
   "execution_count": null,
   "id": "36d25b29",
   "metadata": {},
   "outputs": [],
   "source": []
  },
  {
   "cell_type": "code",
   "execution_count": null,
   "id": "8f2aaa6f",
   "metadata": {},
   "outputs": [],
   "source": []
  },
  {
   "cell_type": "code",
   "execution_count": null,
   "id": "6191c38e",
   "metadata": {},
   "outputs": [],
   "source": []
  },
  {
   "cell_type": "code",
   "execution_count": null,
   "id": "373c3fcf",
   "metadata": {},
   "outputs": [],
   "source": []
  }
 ],
 "metadata": {
  "kernelspec": {
   "display_name": "Python 3 (ipykernel)",
   "language": "python",
   "name": "python3"
  },
  "language_info": {
   "codemirror_mode": {
    "name": "ipython",
    "version": 3
   },
   "file_extension": ".py",
   "mimetype": "text/x-python",
   "name": "python",
   "nbconvert_exporter": "python",
   "pygments_lexer": "ipython3",
   "version": "3.10.6"
  }
 },
 "nbformat": 4,
 "nbformat_minor": 5
}
