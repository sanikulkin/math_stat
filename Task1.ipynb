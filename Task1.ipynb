{
 "cells": [
  {
   "cell_type": "code",
   "execution_count": 211,
   "id": "8701082a",
   "metadata": {},
   "outputs": [],
   "source": [
    "import pandas as pd\n",
    "import numpy as np\n",
    "import math\n",
    "import matplotlib.pyplot as plt\n",
    "\n",
    "np.set_printoptions(precision=3, suppress=True)"
   ]
  },
  {
   "cell_type": "code",
   "execution_count": 212,
   "id": "288fa7c4",
   "metadata": {},
   "outputs": [
    {
     "name": "stdout",
     "output_type": "stream",
     "text": [
      "Выборка (вариант 13) \n",
      " [[ 2.064  0.94   4.928  0.943  3.695  5.482  0.705  0.939  1.396  2.415]\n",
      " [ 1.395  0.146  1.64   1.997  0.041  1.548  2.209  1.059  0.232  0.039]\n",
      " [ 0.466  1.32   0.241  2.868  4.77   2.482  1.023  1.389  0.222  2.169]\n",
      " [ 5.375  1.608  1.941  1.464  1.208  1.542  0.619  1.906  0.741  2.604]\n",
      " [ 6.927  1.79   4.381  0.043  1.503  0.417  2.303  1.537 10.921  2.087]\n",
      " [ 9.411  3.633  2.254  2.814  0.497  3.044  2.832  1.367  3.648  9.483]\n",
      " [ 1.668  0.828  5.557  6.035  1.171  0.333  1.104  2.632  0.58   2.676]\n",
      " [ 3.604  0.823  1.396  7.921  3.041  2.261  0.233  2.1    0.026  0.36 ]\n",
      " [ 2.939  3.2    0.234  5.611  6.665  3.222  3.233  2.51   1.78   0.028]\n",
      " [ 4.649  0.577  0.472  0.13   4.305  1.198  5.612  2.77   0.132  0.18 ]\n",
      " [ 5.663  1.774  1.097  0.305  1.638  6.714  0.088  3.123  0.149  5.202]\n",
      " [ 0.401  9.007  0.148  1.748  6.172  2.424  1.253  0.33   2.136  2.776]\n",
      " [ 0.231  1.896  2.424  0.659  0.116  9.778  0.43   4.015  1.162  0.651]\n",
      " [ 0.23   0.514  7.561  5.953  0.255  1.739  0.196  0.301  0.071  1.896]\n",
      " [ 2.29   1.102  3.983  0.152  1.307  0.503  1.423  0.006  0.15   3.704]]\n"
     ]
    }
   ],
   "source": [
    "df = pd.read_csv('csv/Task1-Var13.csv')\n",
    "x = df.to_numpy()\n",
    "print(\"Выборка (вариант 13) \\n\", x)"
   ]
  },
  {
   "cell_type": "code",
   "execution_count": 213,
   "id": "b6eb311d",
   "metadata": {},
   "outputs": [
    {
     "name": "stdout",
     "output_type": "stream",
     "text": [
      "Размер n = 150\n",
      "Крайние члены вариационного ряда max = 10.921, min = 0.00621\n",
      "Размах выборки w = 10.914790\n"
     ]
    }
   ],
   "source": [
    "# Задание 1 (Найдите крайние члены вариационного ряда и размах выборки)\n",
    "\n",
    "n = x.size\n",
    "Max = np.amax(x)\n",
    "Min = np.amin(x)\n",
    "w = Max - Min\n",
    "\n",
    "print(\"Размер n = %d\\nКрайние члены вариационного ряда max = %.3f, min = %.5f\\nРазмах выборки w = %f\" \n",
    "      %(n, Max, Min, w))"
   ]
  },
  {
   "cell_type": "code",
   "execution_count": 219,
   "id": "b18f3b08",
   "metadata": {},
   "outputs": [
    {
     "name": "stdout",
     "output_type": "stream",
     "text": [
      "Число интервалов l = 8\n",
      "Шаг(ширина интервалов группировки) h = 1.364349\n",
      "\n",
      "\n",
      "Cредние значения каждого из  интервалов (первый столбец)\n",
      "Частоты попадания элементов в каждый из интервалов(второй столбец)\n",
      "0.688384     64\n",
      "2.052733     42\n",
      "3.417082     19\n",
      "4.781431      7\n",
      "6.145779     10\n",
      "7.510128      3\n",
      "8.874477      3\n",
      "10.238826     2\n",
      "\n",
      "\n",
      "Границы интервалов\n",
      "[ 0.006  1.371  2.735  4.099  5.464  6.828  8.192  9.557 10.921]\n"
     ]
    }
   ],
   "source": [
    "# Задание 2 (Осуществите группировку данных)\n",
    "l = math.trunc(1 + math.log2(n))\n",
    "h = w / l\n",
    "\n",
    "print(\"Число интервалов l = %d\\nШаг(ширина интервалов группировки) h = %f\" %(l, h))\n",
    "\n",
    "hist, bin_edges = np.histogram(x, l)\n",
    "bin_edges_average = np.zeros(bin_edges[:8].size)\n",
    "for i in range (l):\n",
    "    bin_edges_average[i] = (bin_edges[i] + bin_edges[i + 1]) / 2 \n",
    "f = pd.Series(data=hist, index=bin_edges_average)\n",
    "\n",
    "print(\"\\n\")\n",
    "print(\"Cредние значения каждого из  интервалов (первый столбец)\\nЧастоты попадания элементов в каждый из интервалов(второй столбец)\")\n",
    "print(f.to_string())\n",
    "\n",
    "p = pd.Series(data=hist / n, index=bin_edges_average)\n",
    "print(\"\\n\")\n",
    "print(\"Относительные частоты \")\n",
    "print(p.to_string(index=False))\n",
    "\n",
    "Int = bin_edges_average"
   ]
  },
  {
   "cell_type": "code",
   "execution_count": 215,
   "id": "db31f613",
   "metadata": {},
   "outputs": [],
   "source": [
    "# Задание 3 (По сгруппированным данным постройте гистограмму относительных частот)\n",
    "\n",
    "plt.figure(figsize=(10,6))\n",
    "x = histogram['l']\n",
    "y = histogram['f1']\n",
    "plt.bar(x, y, width=h)\n",
    "plt.plot(x, y, color = 'black')\n",
    "plt.show()"
   ]
  },
  {
   "cell_type": "code",
   "execution_count": null,
   "id": "2ea5165c",
   "metadata": {},
   "outputs": [],
   "source": []
  },
  {
   "cell_type": "code",
   "execution_count": null,
   "id": "09e1322c",
   "metadata": {},
   "outputs": [],
   "source": []
  },
  {
   "cell_type": "code",
   "execution_count": null,
   "id": "c87df97c",
   "metadata": {},
   "outputs": [],
   "source": []
  },
  {
   "cell_type": "code",
   "execution_count": null,
   "id": "0774faaa",
   "metadata": {},
   "outputs": [],
   "source": []
  }
 ],
 "metadata": {
  "kernelspec": {
   "display_name": "Python 3 (ipykernel)",
   "language": "python",
   "name": "python3"
  },
  "language_info": {
   "codemirror_mode": {
    "name": "ipython",
    "version": 3
   },
   "file_extension": ".py",
   "mimetype": "text/x-python",
   "name": "python",
   "nbconvert_exporter": "python",
   "pygments_lexer": "ipython3",
   "version": "3.10.6"
  }
 },
 "nbformat": 4,
 "nbformat_minor": 5
}
