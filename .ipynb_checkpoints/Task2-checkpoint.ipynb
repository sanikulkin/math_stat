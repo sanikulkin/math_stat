{
 "cells": [
  {
   "cell_type": "code",
   "execution_count": 553,
   "id": "71c1f8a0",
   "metadata": {},
   "outputs": [],
   "source": [
    "import numpy as np\n",
    "import math\n",
    "import random\n",
    "import seaborn as sb\n",
    "from prettytable import PrettyTable\n",
    "\n",
    "np.set_printoptions(precision=7, suppress=True)\n",
    "\n",
    "def print_table(th, td):\n",
    "    table = PrettyTable(th)\n",
    "    columns = len(th) \n",
    "    td_data = td.tolist()[:]\n",
    "    while td_data:\n",
    "        table.add_row(td_data[:columns])\n",
    "        td_data = td_data[columns:]\n",
    "    print(table)"
   ]
  },
  {
   "cell_type": "code",
   "execution_count": 554,
   "id": "7490fb3a",
   "metadata": {},
   "outputs": [],
   "source": [
    "k = 8\n",
    "p = 0.6\n",
    "n = 180"
   ]
  },
  {
   "cell_type": "code",
   "execution_count": 555,
   "id": "47d8bd5b",
   "metadata": {},
   "outputs": [
    {
     "name": "stdout",
     "output_type": "stream",
     "text": [
      "Находим теоретический закон\n",
      "\n",
      "+-------------+---------+---------+---------+---------+---------+---------+---------+---------+--------+\n",
      "| Значение СВ |    0    |    1    |    2    |    3    |    4    |    5    |    6    |    7    |   8    |\n",
      "+-------------+---------+---------+---------+---------+---------+---------+---------+---------+--------+\n",
      "| Вероятности | 0.00066 | 0.00786 | 0.04129 | 0.12386 | 0.23224 | 0.27869 | 0.20902 | 0.08958 | 0.0168 |\n",
      "+-------------+---------+---------+---------+---------+---------+---------+---------+---------+--------+\n",
      "\n",
      "\n",
      "Вероятности вычисляются по формуле Бернулли:\n",
      " p = [0.0006554 0.0078643 0.0412877 0.123863  0.2322432 0.2786918 0.2090189\n",
      " 0.0895795 0.0167962]\n",
      "\n",
      "\n",
      "Кумулятивные вероятности:\n",
      " u = [0.0006554 0.0085197 0.0498074 0.1736704 0.4059136 0.6846054 0.8936243\n",
      " 0.9832038 1.       ]\n"
     ]
    }
   ],
   "source": [
    "P = np.array([])\n",
    "for i in range(k + 1):\n",
    "    cur = math.comb(k, i) * p ** i * (1 - p) ** (k - i)\n",
    "    P = np.append(P, cur)\n",
    "    \n",
    "U = np.array([])\n",
    "s = 0\n",
    "for i in P:\n",
    "    s += i\n",
    "    U = np.append(U, s)\n",
    "\n",
    "    \n",
    "\n",
    "print(\"Находим теоретический закон\\n\")\n",
    "th = ['Значение СВ', 0, 1, 2, 3, 4, 5, 6, 7, 8]\n",
    "td = ['Вероятности']\n",
    "td = np.append(td, np.around(P, 5))\n",
    "print_table(th, td)\n",
    "print(\"\\n\")\n",
    "print(\"Вероятности вычисляются по формуле Бернулли:\\n p =\", P)\n",
    "print(\"\\n\")\n",
    "print(\"Кумулятивные вероятности:\\n u =\", U)"
   ]
  },
  {
   "cell_type": "code",
   "execution_count": 556,
   "id": "fe0ca2ae",
   "metadata": {},
   "outputs": [
    {
     "name": "stdout",
     "output_type": "stream",
     "text": [
      "Моделируем вектор из n случайных чисел\n",
      "\n",
      "y =  [0.1757717 0.5182727 0.2355668 0.6230198 0.8541314 0.0909552 0.7456542\n",
      " 0.4627419 0.5017378 0.9754847 0.5147864 0.8810792 0.1603637 0.0584596\n",
      " 0.5565005 0.6583289 0.9900364 0.2231171 0.1132458 0.2585652 0.0933769\n",
      " 0.7768141 0.4136474 0.2057093 0.3201156 0.0909428 0.1219027 0.5722852\n",
      " 0.5354152 0.6945424 0.4812618 0.7421883 0.2261855 0.4567837 0.9882542\n",
      " 0.4627605 0.2710892 0.0754624 0.6293286 0.6367054 0.7779763 0.3174948\n",
      " 0.6933678 0.1672784 0.5224375 0.8224578 0.7225793 0.2860234 0.9812441\n",
      " 0.9788466 0.333814  0.4169445 0.5895424 0.2112539 0.4123221 0.5324424\n",
      " 0.8026742 0.3133877 0.3565974 0.1143586 0.973473  0.7397304 0.7945422\n",
      " 0.0786953 0.5376221 0.904655  0.5227683 0.0546348 0.8826752 0.5785655\n",
      " 0.4628218 0.6073944 0.1308218 0.7916784 0.0130651 0.558275  0.0096958\n",
      " 0.4617928 0.9159496 0.1018104 0.1937597 0.6766968 0.5800447 0.6750861\n",
      " 0.0293023 0.5808337 0.2329605 0.9240597 0.2223303 0.4981167 0.928975\n",
      " 0.3945152 0.5878352 0.444142  0.2793738 0.7994747 0.8813542 0.2963197\n",
      " 0.8206181 0.7226124 0.9528292 0.5311754 0.7237026 0.0861305 0.5109322\n",
      " 0.5209358 0.4100671 0.4618284 0.1745709 0.8464788 0.2296058 0.1162034\n",
      " 0.8204945 0.1589082 0.6017513 0.3557836 0.4986259 0.3104282 0.0067147\n",
      " 0.6539872 0.9793057 0.8135477 0.8761997 0.8130433 0.2321384 0.8588437\n",
      " 0.7009056 0.7040459 0.6059142 0.3374791 0.4365228 0.9556452 0.1153962\n",
      " 0.0507597 0.5347338 0.0385234 0.4459548 0.9704855 0.5337706 0.3732442\n",
      " 0.9163338 0.3017925 0.711986  0.5757148 0.7825077 0.1543861 0.8170735\n",
      " 0.0312328 0.0994542 0.9824117 0.783738  0.3024651 0.1493476 0.1422471\n",
      " 0.4639343 0.1789742 0.9048574 0.6667579 0.4997686 0.5440332 0.7789504\n",
      " 0.7609988 0.5655563 0.6914091 0.7925877 0.3871173 0.8947803 0.9131546\n",
      " 0.742762  0.6979746 0.9648802 0.1547834 0.9758479 0.1171321 0.4861288\n",
      " 0.5891289 0.7399635 0.7145101 0.151435  0.2048501]\n",
      "\n",
      "\n",
      "По вектору y разыгрываем вектор x в соответствии с алгоритмом\n",
      "\n",
      "x =  [4 5 4 5 6 3 6 5 5 7 5 6 3 3 5 5 8 4 3 4 3 6 5 4 4 3 3 5 5 6 5 6 4 5 8 5 4\n",
      " 3 5 5 6 4 6 3 5 6 6 4 7 7 4 5 5 4 5 5 6 4 4 3 7 6 6 3 5 7 5 3 6 5 5 5 3 6\n",
      " 2 5 2 5 7 3 4 5 5 5 2 5 4 7 4 5 7 4 5 5 4 6 6 4 6 6 7 5 6 3 5 5 5 5 4 6 4\n",
      " 3 6 3 5 4 5 4 1 5 7 6 6 6 4 6 6 6 5 4 5 7 3 3 5 2 5 7 5 4 7 4 6 5 6 3 6 2\n",
      " 3 7 6 4 3 3 5 4 7 5 5 5 6 6 5 6 6 4 7 7 6 6 7 3 7 3 5 5 6 6 3 4]\n",
      "\n",
      "\n",
      "Строим статистический ряд (здесь n=180)\n",
      "\n",
      "+-----------------------+-----+-------+-------+-------+-------+-------+-------+-------+-------+\n",
      "|      Значение СВ      |  0  |   1   |   2   |   3   |   4   |   5   |   6   |   7   |   8   |\n",
      "+-----------------------+-----+-------+-------+-------+-------+-------+-------+-------+-------+\n",
      "|        Частоты        | 0.0 |  1.0  |  5.0  |  26.0 |  32.0 |  55.0 |  40.0 |  19.0 |  2.0  |\n",
      "| Относительные частоты | 0.0 | 0.006 | 0.028 | 0.144 | 0.178 | 0.306 | 0.222 | 0.106 | 0.011 |\n",
      "| Накопительные частоты | 0.0 | 0.006 | 0.033 | 0.178 | 0.356 | 0.661 | 0.883 | 0.989 |  1.0  |\n",
      "+-----------------------+-----+-------+-------+-------+-------+-------+-------+-------+-------+\n"
     ]
    }
   ],
   "source": [
    "y = np.array([])\n",
    "for i in range(n):\n",
    "    y = np.append(y, random.random())\n",
    "\n",
    "x = np.array([])\n",
    "for y_n in y:\n",
    "    for i in range(U.size):\n",
    "        if y_n < U[i]:\n",
    "            x = np.append(x, i)\n",
    "            break\n",
    "            \n",
    "frequency = np.array([])\n",
    "for i in range(k + 1):\n",
    "    frequency = np.append(frequency, np.count_nonzero(x == i))\n",
    "    \n",
    "relative_frequency = np.array([])\n",
    "for i in range(frequency.size):\n",
    "    relative_frequency = np.append(relative_frequency, frequency[i] / n) \n",
    "    \n",
    "accumulated_frequency = np.array([])\n",
    "s = 0\n",
    "for i in relative_frequency:\n",
    "    s += i\n",
    "    accumulated_frequency = np.append(accumulated_frequency, s)\n",
    "    \n",
    "    \n",
    "    \n",
    "print(\"Моделируем вектор из n случайных чисел\\n\")\n",
    "print(\"y = \", y)\n",
    "print(\"\\n\")\n",
    "print(\"По вектору y разыгрываем вектор x в соответствии с алгоритмом\\n\")\n",
    "print(\"x = \", x.astype(int))\n",
    "print(\"\\n\")\n",
    "print(\"Строим статистический ряд (здесь n=180)\\n\")\n",
    "th = ['Значение СВ', 0, 1, 2, 3, 4, 5, 6, 7, 8]\n",
    "td = ['Частоты']\n",
    "td = np.append(td, frequency)\n",
    "td = np.append(td, ['Относительные частоты'])\n",
    "td = np.append(td, np.around(relative_frequency, 3))\n",
    "td = np.append(td, ['Накопительные частоты'])\n",
    "td = np.append(td, np.around(accumulated_frequency, 3))\n",
    "\n",
    "print_table(th, td)"
   ]
  },
  {
   "cell_type": "code",
   "execution_count": 557,
   "id": "ae3305b0",
   "metadata": {},
   "outputs": [
    {
     "name": "stdout",
     "output_type": "stream",
     "text": [
      "Строим совмещенные графики\n"
     ]
    },
    {
     "data": {
      "image/png": "[encoded data removed]",
      "text/plain": [
       "<Figure size 640x480 with 1 Axes>"
      ]
     },
     "metadata": {},
     "output_type": "display_data"
    }
   ],
   "source": [
    "print(\"Строим совмещенные графики\")\n",
    "sb.set_theme()\n",
    "z = range(-1, 10)\n",
    "plt.step(z, [0.0] + U.tolist() + [1.0], linewidth = 1.0, color='black')\n",
    "plt.step(z, [0.0] + accumulated_frequency.tolist() + [1.0], linewidth = 1.0, color='red')\n",
    "plt.xlabel(\"z\")\n",
    "plt.ylabel(\"Черный: F(z)\\nКрасный: F180(z)\")\n",
    "plt.show()"
   ]
  },
  {
   "cell_type": "code",
   "execution_count": 558,
   "id": "b656e349",
   "metadata": {},
   "outputs": [
    {
     "name": "stdout",
     "output_type": "stream",
     "text": [
      "Вычисление статистики Колмогорова для выборки из дискретного закона\n",
      "\n",
      "+---------------+----------+--------+--------+--------+--------+--------+--------+--------+--------+----------+\n",
      "|   Интервалы   | (-inf,0] | (0,1]  | (1,2]  | (2,3]  | (3,4]  | (4,5]  | (5,6]  | (6,7]  | (7,8]  | (8,+inf) |\n",
      "+---------------+----------+--------+--------+--------+--------+--------+--------+--------+--------+----------+\n",
      "|  Эмпирическая |    0     |  0.0   | 0.0056 | 0.0333 | 0.1778 | 0.3556 | 0.6611 | 0.8833 | 0.9889 |   1.0    |\n",
      "|    функция    |          |        |        |        |        |        |        |        |        |          |\n",
      "| распределения |          |        |        |        |        |        |        |        |        |          |\n",
      "|               |          |        |        |        |        |        |        |        |        |          |\n",
      "| Теоретическая |    0     | 0.0007 | 0.0085 | 0.0498 | 0.1737 | 0.4059 | 0.6846 | 0.8936 | 0.9832 |   1.0    |\n",
      "|    функция    |          |        |        |        |        |        |        |        |        |          |\n",
      "| распределения |          |        |        |        |        |        |        |        |        |          |\n",
      "|               |          |        |        |        |        |        |        |        |        |          |\n",
      "|     Модуль    |   0.0    | 0.0007 | 0.003  | 0.0165 | 0.0041 | 0.0504 | 0.0235 | 0.0103 | 0.0057 |   0.0    |\n",
      "|    разности   |          |        |        |        |        |        |        |        |        |          |\n",
      "|               |          |        |        |        |        |        |        |        |        |          |\n",
      "+---------------+----------+--------+--------+--------+--------+--------+--------+--------+--------+----------+\n",
      "Статистика Колмагорова:\n",
      " 0.05035804444444453\n"
     ]
    }
   ],
   "source": [
    "modul = np.array([0])\n",
    "for i in range(k + 1):\n",
    "    modul = np.append(modul, abs(accumulated_frequency[i] - U[i]))\n",
    "    \n",
    "print(\"Вычисление статистики Колмогорова для выборки из дискретного закона\\n\")\n",
    "th = ['Интервалы', '(-inf,0]', '(0,1]', '(1,2]', '(2,3]', '(3,4]', '(4,5]', '(5,6]', '(6,7]', '(7,8]', '(8,+inf)']\n",
    "td = ['Эмпирическая\\nфункция\\nраспределения\\n', 0]\n",
    "td = np.append(td, np.around(accumulated_frequency,4))\n",
    "td = np.append(td, ['Теоретическая\\nфункция\\nраспределения\\n'])\n",
    "td = np.append(td, 0)\n",
    "td = np.append(td, np.around(U, 4))\n",
    "td = np.append(td, ['Модуль\\nразности\\n'])\n",
    "td = np.append(td, np.around(modul, 4))\n",
    "\n",
    "print_table(th, td)\n",
    "\n",
    "print(\"Статистика Колмагорова:\\n\", np.amax(modul))"
   ]
  },
  {
   "cell_type": "code",
   "execution_count": 559,
   "id": "678d07f5",
   "metadata": {},
   "outputs": [
    {
     "name": "stdout",
     "output_type": "stream",
     "text": [
      "Вычисление эмпирических и теоретических характеристик\n",
      "\n",
      "Абсолютная величина разности выборочного среднего и теоретического мат ожидания мало\n",
      " 0.09444\n",
      "Отношение среднеквадратичных отклонений близко к единице\n",
      " 0.9784\n",
      "Следовательно, результаты моделирования можно признать удовлетворительными.\n"
     ]
    }
   ],
   "source": [
    "print(\"Вычисление эмпирических и теоретических характеристик\\n\")\n",
    "\n",
    "mn = x.mean()\n",
    "m = sum(P[i] * i for i in range(k + 1))\n",
    "D = sum((i - m) ** 2 * P[i] for i in range(k + 1))\n",
    "S2 = 1/179 * sum((x[i] - mn) ** 2 for i in range(n))\n",
    "\n",
    "print(\"Абсолютная величина разности выборочного среднего и теоретического мат ожидания мало\\n\", np.around(abs(mn-m), 5))\n",
    "print(\"Отношение среднеквадратичных отклонений близко к единице\\n\", np.around(math.sqrt(S2/D), 5))\n",
    "print(\"Следовательно, результаты моделирования можно признать удовлетворительными.\")"
   ]
  },
  {
   "cell_type": "code",
   "execution_count": null,
   "id": "c96e7ef5",
   "metadata": {},
   "outputs": [],
   "source": []
  },
  {
   "cell_type": "code",
   "execution_count": null,
   "id": "c2948097",
   "metadata": {},
   "outputs": [],
   "source": []
  },
  {
   "cell_type": "code",
   "execution_count": null,
   "id": "56497853",
   "metadata": {},
   "outputs": [],
   "source": []
  },
  {
   "cell_type": "code",
   "execution_count": null,
   "id": "6c817798",
   "metadata": {},
   "outputs": [],
   "source": []
  },
  {
   "cell_type": "code",
   "execution_count": null,
   "id": "44de1f4d",
   "metadata": {},
   "outputs": [],
   "source": []
  },
  {
   "cell_type": "code",
   "execution_count": null,
   "id": "60f98ff3",
   "metadata": {},
   "outputs": [],
   "source": []
  }
 ],
 "metadata": {
  "kernelspec": {
   "display_name": "Python 3 (ipykernel)",
   "language": "python",
   "name": "python3"
  },
  "language_info": {
   "codemirror_mode": {
    "name": "ipython",
    "version": 3
   },
   "file_extension": ".py",
   "mimetype": "text/x-python",
   "name": "python",
   "nbconvert_exporter": "python",
   "pygments_lexer": "ipython3",
   "version": "3.10.6"
  }
 },
 "nbformat": 4,
 "nbformat_minor": 5
}
